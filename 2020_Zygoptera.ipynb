{
 "cells": [
  {
   "cell_type": "code",
   "execution_count": 15,
   "metadata": {},
   "outputs": [],
   "source": [
    "### Import functions and methods\n",
    "from Bio import AlignIO\n",
    "from Bio import SeqIO\n",
    "from Bio import Seq\n",
    "import os"
   ]
  },
  {
   "cell_type": "code",
   "execution_count": 35,
   "metadata": {},
   "outputs": [],
   "source": [
    "# Import file\n",
    "genbank = \"/Users/simontye/Documents/Research/Projects/Zygoptera/2020_Zygoptera/coen_gb.txt\"\n",
    "\n",
    "# Parse file\n",
    "records = SeqIO.parse(genbank, \"genbank\")\n",
    "\n",
    "# Convert to list\n",
    "records = list(records)\n",
    "\n",
    "# Calculate max length of sequences\n",
    "maxlen = max(len(record.seq) for record in records)\n",
    "\n",
    "# Pad sequences so that they all have the same length\n",
    "for record in records:\n",
    "    if len(record.seq) != maxlen:\n",
    "        sequence = str(record.seq).ljust(maxlen, '.')\n",
    "        record.seq = Seq.Seq(sequence)\n",
    "assert all(len(record.seq) == maxlen for record in records)\n",
    "\n",
    "# write to temporary file\n",
    "temp_file = '{}_padded.fasta'.format(os.path.splitext(genbank)[0])\n",
    "\n",
    "# Align sequences\n",
    "with open(temp_file, 'w') as f:\n",
    "    SeqIO.write(records, f, 'fasta')\n",
    "\n",
    "# Read alignment\n",
    "alignment = AlignIO.read(temp_file, \"fasta\")\n",
    "\n",
    "# Print alignment\n",
    "#print(alignment)\n",
    "#print(alignment.format, \"fasta\") # Crashes jupyter\n",
    "\n",
    "# Save alignment\n",
    "output = SeqIO.write(alignment, \"/Users/simontye/Documents/Research/Projects/Zygoptera/2020_Zygoptera/coen_gb.faa\", \"fasta\")"
   ]
  },
  {
   "cell_type": "code",
   "execution_count": null,
   "metadata": {},
   "outputs": [],
   "source": []
  },
  {
   "cell_type": "code",
   "execution_count": null,
   "metadata": {},
   "outputs": [],
   "source": []
  }
 ],
 "metadata": {
  "kernelspec": {
   "display_name": "Python 3",
   "language": "python",
   "name": "python3"
  },
  "language_info": {
   "codemirror_mode": {
    "name": "ipython",
    "version": 3
   },
   "file_extension": ".py",
   "mimetype": "text/x-python",
   "name": "python",
   "nbconvert_exporter": "python",
   "pygments_lexer": "ipython3",
   "version": "3.7.1"
  }
 },
 "nbformat": 4,
 "nbformat_minor": 2
}
